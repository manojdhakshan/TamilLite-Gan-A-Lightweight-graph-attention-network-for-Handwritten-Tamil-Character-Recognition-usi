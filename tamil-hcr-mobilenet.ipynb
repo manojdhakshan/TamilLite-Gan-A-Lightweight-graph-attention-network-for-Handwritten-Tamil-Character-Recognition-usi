{
 "cells": [
  {
   "cell_type": "code",
   "execution_count": 1,
   "id": "7463b5ad",
   "metadata": {
    "_cell_guid": "b1076dfc-b9ad-4769-8c92-a6c4dae69d19",
    "_uuid": "8f2839f25d086af736a60e9eeb907d3b93b6e0e5",
    "execution": {
     "iopub.execute_input": "2023-08-11T03:07:58.390081Z",
     "iopub.status.busy": "2023-08-11T03:07:58.389642Z",
     "iopub.status.idle": "2023-08-11T03:08:15.395478Z",
     "shell.execute_reply": "2023-08-11T03:08:15.394091Z"
    },
    "papermill": {
     "duration": 17.019305,
     "end_time": "2023-08-11T03:08:15.398932",
     "exception": false,
     "start_time": "2023-08-11T03:07:58.379627",
     "status": "completed"
    },
    "tags": []
   },
   "outputs": [
    {
     "name": "stderr",
     "output_type": "stream",
     "text": [
      "/opt/conda/lib/python3.10/site-packages/scipy/__init__.py:146: UserWarning: A NumPy version >=1.16.5 and <1.23.0 is required for this version of SciPy (detected version 1.23.5\n",
      "  warnings.warn(f\"A NumPy version >={np_minversion} and <{np_maxversion}\"\n",
      "/opt/conda/lib/python3.10/site-packages/tensorflow_io/python/ops/__init__.py:98: UserWarning: unable to load libtensorflow_io_plugins.so: unable to open file: libtensorflow_io_plugins.so, from paths: ['/opt/conda/lib/python3.10/site-packages/tensorflow_io/python/ops/libtensorflow_io_plugins.so']\n",
      "caused by: ['/opt/conda/lib/python3.10/site-packages/tensorflow_io/python/ops/libtensorflow_io_plugins.so: undefined symbol: _ZN3tsl6StatusC1EN10tensorflow5error4CodeESt17basic_string_viewIcSt11char_traitsIcEENS_14SourceLocationE']\n",
      "  warnings.warn(f\"unable to load libtensorflow_io_plugins.so: {e}\")\n",
      "/opt/conda/lib/python3.10/site-packages/tensorflow_io/python/ops/__init__.py:104: UserWarning: file system plugins are not loaded: unable to open file: libtensorflow_io.so, from paths: ['/opt/conda/lib/python3.10/site-packages/tensorflow_io/python/ops/libtensorflow_io.so']\n",
      "caused by: ['/opt/conda/lib/python3.10/site-packages/tensorflow_io/python/ops/libtensorflow_io.so: undefined symbol: _ZTVN10tensorflow13GcsFileSystemE']\n",
      "  warnings.warn(f\"file system plugins are not loaded: {e}\")\n"
     ]
    }
   ],
   "source": [
    "import tensorflow as tf\n",
    "import numpy as np \n",
    "from PIL import Image\n",
    "\n",
    "model = tf.saved_model.load('/kaggle/input/mobilenet-tamil-hcr/MobileNet')\n",
    "classes = [ \"0\" ,  \"1\" ,  \"10\" ,  \"100\" ,  \"101\" ,  \"102\" ,  \"103\" ,  \"104\" ,  \"105\" ,  \"106\" , \n",
    "           \"107\" ,  \"108\" ,  \"109\" ,  \"11\" ,  \"110\" ,  \"111\" ,  \"112\" ,  \"113\" ,  \"114\" ,  \"115\" , \n",
    "           \"116\" ,  \"117\" ,  \"118\" ,  \"119\" ,  \"12\" ,  \"120\" ,  \"121\" ,  \"122\" ,  \"123\" ,  \"124\" , \n",
    "           \"125\" ,  \"126\" ,  \"127\" ,  \"128\" ,  \"129\" ,  \"13\" ,  \"130\" ,  \"131\" ,  \"132\" ,  \"133\" ,  \n",
    "           \"134\" ,  \"135\" ,  \"136\" ,  \"137\" ,  \"138\" ,  \"139\" ,  \"14\" ,  \"140\" ,  \"141\" ,  \"142\" ,  \n",
    "           \"143\" ,  \"144\" ,  \"145\" ,  \"146\" ,  \"147\" ,  \"148\" ,  \"149\" ,  \"15\" ,  \"150\" ,  \"151\" , \n",
    "           \"152\" ,  \"153\" ,  \"154\" ,  \"155\" ,  \"16\" ,  \"17\" ,  \"18\" ,  \"19\" ,  \"2\" ,  \"20\" ,  \"21\" ,\n",
    "           \"22\" ,  \"23\" ,  \"24\" ,  \"25\" ,  \"26\" ,  \"27\" ,  \"28\" ,  \"29\" ,  \"3\" ,  \"30\" ,  \"31\" , \n",
    "           \"32\" ,  \"33\" ,  \"34\" ,  \"35\" ,  \"36\" ,  \"37\" ,  \"38\" ,  \"39\" ,  \"4\" ,  \"40\" ,  \"41\" , \n",
    "           \"42\" ,  \"43\" ,  \"44\" ,  \"45\" ,  \"46\" ,  \"47\" ,  \"48\" ,  \"49\" ,  \"5\" ,  \"50\" ,  \"51\" , \n",
    "           \"52\" ,  \"53\" ,  \"54\" ,  \"55\" ,  \"56\" ,  \"57\" ,  \"58\" ,  \"59\" ,  \"6\" ,  \"60\" ,  \"61\" , \n",
    "           \"62\" ,  \"63\" ,  \"64\" ,  \"65\" ,  \"66\" ,  \"67\" ,  \"68\" ,  \"69\" ,  \"7\" ,  \"70\" ,  \"71\" , \n",
    "           \"72\" ,  \"73\" ,  \"74\" ,  \"75\" ,  \"76\" ,  \"77\" ,  \"78\" ,  \"79\" ,  \"8\" ,  \"80\" ,  \"81\" , \n",
    "           \"82\" ,  \"83\" ,  \"84\" ,  \"85\" ,  \"86\" ,  \"87\" ,  \"88\" ,  \"89\" ,  \"9\" ,  \"90\" ,  \"91\" , \n",
    "           \"92\" ,  \"93\" ,  \"94\" ,  \"95\" ,  \"96\" ,  \"97\" ,  \"98\" ,  \"99\" , ]"
   ]
  },
  {
   "cell_type": "code",
   "execution_count": 2,
   "id": "d29d249e",
   "metadata": {
    "execution": {
     "iopub.execute_input": "2023-08-11T03:08:15.416429Z",
     "iopub.status.busy": "2023-08-11T03:08:15.415593Z",
     "iopub.status.idle": "2023-08-11T03:08:21.194601Z",
     "shell.execute_reply": "2023-08-11T03:08:21.193294Z"
    },
    "papermill": {
     "duration": 5.790904,
     "end_time": "2023-08-11T03:08:21.197580",
     "exception": false,
     "start_time": "2023-08-11T03:08:15.406676",
     "status": "completed"
    },
    "tags": []
   },
   "outputs": [
    {
     "data": {
      "text/plain": [
       "['/kaggle/input/tamil-handwritten-character-recognition/train/7/60366.bmp',\n",
       " '/kaggle/input/tamil-handwritten-character-recognition/train/7/53458.bmp',\n",
       " '/kaggle/input/tamil-handwritten-character-recognition/train/7/50628.bmp',\n",
       " '/kaggle/input/tamil-handwritten-character-recognition/train/7/25038.bmp',\n",
       " '/kaggle/input/tamil-handwritten-character-recognition/train/7/18954.bmp']"
      ]
     },
     "execution_count": 2,
     "metadata": {},
     "output_type": "execute_result"
    }
   ],
   "source": [
    "Id=[]\n",
    "import numpy as np # linear algebra\n",
    "import pandas as pd # data processing, CSV file I/O (e.g. pd.read_csv)\n",
    "\n",
    "# Input data files are available in the read-only \"../input/\" directory\n",
    "# For example, running this (by clicking run or pressing Shift+Enter) will list all files under the input directory\n",
    "\n",
    "import os\n",
    "for dirname, _, filenames in os.walk('/kaggle/input/tamil-handwritten-character-recognition/train'):\n",
    "    for filename in filenames:\n",
    "        Id.append(os.path.join(dirname, filename))\n",
    "Id[:5]"
   ]
  },
  {
   "cell_type": "code",
   "execution_count": 3,
   "id": "e7379bfa",
   "metadata": {
    "execution": {
     "iopub.execute_input": "2023-08-11T03:08:21.215472Z",
     "iopub.status.busy": "2023-08-11T03:08:21.214905Z",
     "iopub.status.idle": "2023-08-11T03:08:21.272486Z",
     "shell.execute_reply": "2023-08-11T03:08:21.271116Z"
    },
    "papermill": {
     "duration": 0.070136,
     "end_time": "2023-08-11T03:08:21.275615",
     "exception": false,
     "start_time": "2023-08-11T03:08:21.205479",
     "status": "completed"
    },
    "tags": []
   },
   "outputs": [
    {
     "data": {
      "text/html": [
       "<div>\n",
       "<style scoped>\n",
       "    .dataframe tbody tr th:only-of-type {\n",
       "        vertical-align: middle;\n",
       "    }\n",
       "\n",
       "    .dataframe tbody tr th {\n",
       "        vertical-align: top;\n",
       "    }\n",
       "\n",
       "    .dataframe thead th {\n",
       "        text-align: right;\n",
       "    }\n",
       "</style>\n",
       "<table border=\"1\" class=\"dataframe\">\n",
       "  <thead>\n",
       "    <tr style=\"text-align: right;\">\n",
       "      <th></th>\n",
       "      <th>filename</th>\n",
       "    </tr>\n",
       "  </thead>\n",
       "  <tbody>\n",
       "    <tr>\n",
       "      <th>0</th>\n",
       "      <td>/kaggle/input/tamil-handwritten-character-reco...</td>\n",
       "    </tr>\n",
       "    <tr>\n",
       "      <th>1</th>\n",
       "      <td>/kaggle/input/tamil-handwritten-character-reco...</td>\n",
       "    </tr>\n",
       "    <tr>\n",
       "      <th>2</th>\n",
       "      <td>/kaggle/input/tamil-handwritten-character-reco...</td>\n",
       "    </tr>\n",
       "    <tr>\n",
       "      <th>3</th>\n",
       "      <td>/kaggle/input/tamil-handwritten-character-reco...</td>\n",
       "    </tr>\n",
       "    <tr>\n",
       "      <th>4</th>\n",
       "      <td>/kaggle/input/tamil-handwritten-character-reco...</td>\n",
       "    </tr>\n",
       "  </tbody>\n",
       "</table>\n",
       "</div>"
      ],
      "text/plain": [
       "                                            filename\n",
       "0  /kaggle/input/tamil-handwritten-character-reco...\n",
       "1  /kaggle/input/tamil-handwritten-character-reco...\n",
       "2  /kaggle/input/tamil-handwritten-character-reco...\n",
       "3  /kaggle/input/tamil-handwritten-character-reco...\n",
       "4  /kaggle/input/tamil-handwritten-character-reco..."
      ]
     },
     "execution_count": 3,
     "metadata": {},
     "output_type": "execute_result"
    }
   ],
   "source": [
    "train=pd.DataFrame()\n",
    "train=train.assign(filename=Id)\n",
    "train.head()"
   ]
  },
  {
   "cell_type": "code",
   "execution_count": 4,
   "id": "20b55ac5",
   "metadata": {
    "execution": {
     "iopub.execute_input": "2023-08-11T03:08:21.293871Z",
     "iopub.status.busy": "2023-08-11T03:08:21.292643Z",
     "iopub.status.idle": "2023-08-11T03:08:21.374314Z",
     "shell.execute_reply": "2023-08-11T03:08:21.372986Z"
    },
    "papermill": {
     "duration": 0.093437,
     "end_time": "2023-08-11T03:08:21.376888",
     "exception": false,
     "start_time": "2023-08-11T03:08:21.283451",
     "status": "completed"
    },
    "tags": []
   },
   "outputs": [
    {
     "data": {
      "text/html": [
       "<div>\n",
       "<style scoped>\n",
       "    .dataframe tbody tr th:only-of-type {\n",
       "        vertical-align: middle;\n",
       "    }\n",
       "\n",
       "    .dataframe tbody tr th {\n",
       "        vertical-align: top;\n",
       "    }\n",
       "\n",
       "    .dataframe thead th {\n",
       "        text-align: right;\n",
       "    }\n",
       "</style>\n",
       "<table border=\"1\" class=\"dataframe\">\n",
       "  <thead>\n",
       "    <tr style=\"text-align: right;\">\n",
       "      <th></th>\n",
       "      <th>filename</th>\n",
       "      <th>label</th>\n",
       "    </tr>\n",
       "  </thead>\n",
       "  <tbody>\n",
       "    <tr>\n",
       "      <th>0</th>\n",
       "      <td>/kaggle/input/tamil-handwritten-character-reco...</td>\n",
       "      <td>7/60366.bmp</td>\n",
       "    </tr>\n",
       "    <tr>\n",
       "      <th>1</th>\n",
       "      <td>/kaggle/input/tamil-handwritten-character-reco...</td>\n",
       "      <td>7/53458.bmp</td>\n",
       "    </tr>\n",
       "    <tr>\n",
       "      <th>2</th>\n",
       "      <td>/kaggle/input/tamil-handwritten-character-reco...</td>\n",
       "      <td>7/50628.bmp</td>\n",
       "    </tr>\n",
       "    <tr>\n",
       "      <th>3</th>\n",
       "      <td>/kaggle/input/tamil-handwritten-character-reco...</td>\n",
       "      <td>7/25038.bmp</td>\n",
       "    </tr>\n",
       "    <tr>\n",
       "      <th>4</th>\n",
       "      <td>/kaggle/input/tamil-handwritten-character-reco...</td>\n",
       "      <td>7/18954.bmp</td>\n",
       "    </tr>\n",
       "  </tbody>\n",
       "</table>\n",
       "</div>"
      ],
      "text/plain": [
       "                                            filename        label\n",
       "0  /kaggle/input/tamil-handwritten-character-reco...  7/60366.bmp\n",
       "1  /kaggle/input/tamil-handwritten-character-reco...  7/53458.bmp\n",
       "2  /kaggle/input/tamil-handwritten-character-reco...  7/50628.bmp\n",
       "3  /kaggle/input/tamil-handwritten-character-reco...  7/25038.bmp\n",
       "4  /kaggle/input/tamil-handwritten-character-reco...  7/18954.bmp"
      ]
     },
     "execution_count": 4,
     "metadata": {},
     "output_type": "execute_result"
    }
   ],
   "source": [
    "train['label']=train['filename']\n",
    "train['label']=train['label'].str.replace('/kaggle/input/tamil-handwritten-character-recognition/train/','')\n",
    "train.head()"
   ]
  },
  {
   "cell_type": "code",
   "execution_count": 5,
   "id": "48db3354",
   "metadata": {
    "execution": {
     "iopub.execute_input": "2023-08-11T03:08:21.397618Z",
     "iopub.status.busy": "2023-08-11T03:08:21.397192Z",
     "iopub.status.idle": "2023-08-11T03:08:21.514408Z",
     "shell.execute_reply": "2023-08-11T03:08:21.513105Z"
    },
    "papermill": {
     "duration": 0.129834,
     "end_time": "2023-08-11T03:08:21.517093",
     "exception": false,
     "start_time": "2023-08-11T03:08:21.387259",
     "status": "completed"
    },
    "tags": []
   },
   "outputs": [
    {
     "data": {
      "text/html": [
       "<div>\n",
       "<style scoped>\n",
       "    .dataframe tbody tr th:only-of-type {\n",
       "        vertical-align: middle;\n",
       "    }\n",
       "\n",
       "    .dataframe tbody tr th {\n",
       "        vertical-align: top;\n",
       "    }\n",
       "\n",
       "    .dataframe thead th {\n",
       "        text-align: right;\n",
       "    }\n",
       "</style>\n",
       "<table border=\"1\" class=\"dataframe\">\n",
       "  <thead>\n",
       "    <tr style=\"text-align: right;\">\n",
       "      <th></th>\n",
       "      <th>filename</th>\n",
       "      <th>label</th>\n",
       "    </tr>\n",
       "  </thead>\n",
       "  <tbody>\n",
       "    <tr>\n",
       "      <th>0</th>\n",
       "      <td>/kaggle/input/tamil-handwritten-character-reco...</td>\n",
       "      <td>7</td>\n",
       "    </tr>\n",
       "    <tr>\n",
       "      <th>1</th>\n",
       "      <td>/kaggle/input/tamil-handwritten-character-reco...</td>\n",
       "      <td>7</td>\n",
       "    </tr>\n",
       "    <tr>\n",
       "      <th>2</th>\n",
       "      <td>/kaggle/input/tamil-handwritten-character-reco...</td>\n",
       "      <td>7</td>\n",
       "    </tr>\n",
       "    <tr>\n",
       "      <th>3</th>\n",
       "      <td>/kaggle/input/tamil-handwritten-character-reco...</td>\n",
       "      <td>7</td>\n",
       "    </tr>\n",
       "    <tr>\n",
       "      <th>4</th>\n",
       "      <td>/kaggle/input/tamil-handwritten-character-reco...</td>\n",
       "      <td>7</td>\n",
       "    </tr>\n",
       "  </tbody>\n",
       "</table>\n",
       "</div>"
      ],
      "text/plain": [
       "                                            filename label\n",
       "0  /kaggle/input/tamil-handwritten-character-reco...     7\n",
       "1  /kaggle/input/tamil-handwritten-character-reco...     7\n",
       "2  /kaggle/input/tamil-handwritten-character-reco...     7\n",
       "3  /kaggle/input/tamil-handwritten-character-reco...     7\n",
       "4  /kaggle/input/tamil-handwritten-character-reco...     7"
      ]
     },
     "execution_count": 5,
     "metadata": {},
     "output_type": "execute_result"
    }
   ],
   "source": [
    "train['label'] = train['label'].str.split('/').str[0]\n",
    "train.head()"
   ]
  },
  {
   "cell_type": "code",
   "execution_count": 6,
   "id": "20e876c6",
   "metadata": {
    "execution": {
     "iopub.execute_input": "2023-08-11T03:08:21.535519Z",
     "iopub.status.busy": "2023-08-11T03:08:21.535090Z",
     "iopub.status.idle": "2023-08-11T03:08:22.811602Z",
     "shell.execute_reply": "2023-08-11T03:08:22.810789Z"
    },
    "papermill": {
     "duration": 1.28838,
     "end_time": "2023-08-11T03:08:22.813691",
     "exception": false,
     "start_time": "2023-08-11T03:08:21.525311",
     "status": "completed"
    },
    "tags": []
   },
   "outputs": [
    {
     "data": {
      "text/plain": [
       "['/kaggle/input/tamil-handwritten-character-recognition/test/7/42307.bmp',\n",
       " '/kaggle/input/tamil-handwritten-character-recognition/test/7/24258.bmp',\n",
       " '/kaggle/input/tamil-handwritten-character-recognition/test/7/6738.bmp',\n",
       " '/kaggle/input/tamil-handwritten-character-recognition/test/7/39167.bmp',\n",
       " '/kaggle/input/tamil-handwritten-character-recognition/test/7/18174.bmp']"
      ]
     },
     "execution_count": 6,
     "metadata": {},
     "output_type": "execute_result"
    }
   ],
   "source": [
    "Id=[]\n",
    "import numpy as np # linear algebra\n",
    "import pandas as pd # data processing, CSV file I/O (e.g. pd.read_csv)\n",
    "\n",
    "# Input data files are available in the read-only \"../input/\" directory\n",
    "# For example, running this (by clicking run or pressing Shift+Enter) will list all files under the input directory\n",
    "\n",
    "import os\n",
    "for dirname, _, filenames in os.walk('/kaggle/input/tamil-handwritten-character-recognition/test'):\n",
    "    for filename in filenames:\n",
    "        Id.append(os.path.join(dirname, filename))\n",
    "Id[:5]"
   ]
  },
  {
   "cell_type": "code",
   "execution_count": 7,
   "id": "375fb53f",
   "metadata": {
    "execution": {
     "iopub.execute_input": "2023-08-11T03:08:22.832769Z",
     "iopub.status.busy": "2023-08-11T03:08:22.832000Z",
     "iopub.status.idle": "2023-08-11T03:08:22.846271Z",
     "shell.execute_reply": "2023-08-11T03:08:22.845122Z"
    },
    "papermill": {
     "duration": 0.026478,
     "end_time": "2023-08-11T03:08:22.848573",
     "exception": false,
     "start_time": "2023-08-11T03:08:22.822095",
     "status": "completed"
    },
    "tags": []
   },
   "outputs": [
    {
     "data": {
      "text/html": [
       "<div>\n",
       "<style scoped>\n",
       "    .dataframe tbody tr th:only-of-type {\n",
       "        vertical-align: middle;\n",
       "    }\n",
       "\n",
       "    .dataframe tbody tr th {\n",
       "        vertical-align: top;\n",
       "    }\n",
       "\n",
       "    .dataframe thead th {\n",
       "        text-align: right;\n",
       "    }\n",
       "</style>\n",
       "<table border=\"1\" class=\"dataframe\">\n",
       "  <thead>\n",
       "    <tr style=\"text-align: right;\">\n",
       "      <th></th>\n",
       "      <th>filename</th>\n",
       "    </tr>\n",
       "  </thead>\n",
       "  <tbody>\n",
       "    <tr>\n",
       "      <th>0</th>\n",
       "      <td>/kaggle/input/tamil-handwritten-character-reco...</td>\n",
       "    </tr>\n",
       "    <tr>\n",
       "      <th>1</th>\n",
       "      <td>/kaggle/input/tamil-handwritten-character-reco...</td>\n",
       "    </tr>\n",
       "    <tr>\n",
       "      <th>2</th>\n",
       "      <td>/kaggle/input/tamil-handwritten-character-reco...</td>\n",
       "    </tr>\n",
       "    <tr>\n",
       "      <th>3</th>\n",
       "      <td>/kaggle/input/tamil-handwritten-character-reco...</td>\n",
       "    </tr>\n",
       "    <tr>\n",
       "      <th>4</th>\n",
       "      <td>/kaggle/input/tamil-handwritten-character-reco...</td>\n",
       "    </tr>\n",
       "  </tbody>\n",
       "</table>\n",
       "</div>"
      ],
      "text/plain": [
       "                                            filename\n",
       "0  /kaggle/input/tamil-handwritten-character-reco...\n",
       "1  /kaggle/input/tamil-handwritten-character-reco...\n",
       "2  /kaggle/input/tamil-handwritten-character-reco...\n",
       "3  /kaggle/input/tamil-handwritten-character-reco...\n",
       "4  /kaggle/input/tamil-handwritten-character-reco..."
      ]
     },
     "execution_count": 7,
     "metadata": {},
     "output_type": "execute_result"
    }
   ],
   "source": [
    "test=pd.DataFrame()\n",
    "test=test.assign(filename=Id)\n",
    "test.head()"
   ]
  },
  {
   "cell_type": "code",
   "execution_count": 8,
   "id": "815145f5",
   "metadata": {
    "execution": {
     "iopub.execute_input": "2023-08-11T03:08:22.868452Z",
     "iopub.status.busy": "2023-08-11T03:08:22.867288Z",
     "iopub.status.idle": "2023-08-11T03:08:22.897421Z",
     "shell.execute_reply": "2023-08-11T03:08:22.896504Z"
    },
    "papermill": {
     "duration": 0.042465,
     "end_time": "2023-08-11T03:08:22.899817",
     "exception": false,
     "start_time": "2023-08-11T03:08:22.857352",
     "status": "completed"
    },
    "tags": []
   },
   "outputs": [
    {
     "data": {
      "text/html": [
       "<div>\n",
       "<style scoped>\n",
       "    .dataframe tbody tr th:only-of-type {\n",
       "        vertical-align: middle;\n",
       "    }\n",
       "\n",
       "    .dataframe tbody tr th {\n",
       "        vertical-align: top;\n",
       "    }\n",
       "\n",
       "    .dataframe thead th {\n",
       "        text-align: right;\n",
       "    }\n",
       "</style>\n",
       "<table border=\"1\" class=\"dataframe\">\n",
       "  <thead>\n",
       "    <tr style=\"text-align: right;\">\n",
       "      <th></th>\n",
       "      <th>filename</th>\n",
       "      <th>label</th>\n",
       "    </tr>\n",
       "  </thead>\n",
       "  <tbody>\n",
       "    <tr>\n",
       "      <th>0</th>\n",
       "      <td>/kaggle/input/tamil-handwritten-character-reco...</td>\n",
       "      <td>7/42307.bmp</td>\n",
       "    </tr>\n",
       "    <tr>\n",
       "      <th>1</th>\n",
       "      <td>/kaggle/input/tamil-handwritten-character-reco...</td>\n",
       "      <td>7/24258.bmp</td>\n",
       "    </tr>\n",
       "    <tr>\n",
       "      <th>2</th>\n",
       "      <td>/kaggle/input/tamil-handwritten-character-reco...</td>\n",
       "      <td>7/6738.bmp</td>\n",
       "    </tr>\n",
       "    <tr>\n",
       "      <th>3</th>\n",
       "      <td>/kaggle/input/tamil-handwritten-character-reco...</td>\n",
       "      <td>7/39167.bmp</td>\n",
       "    </tr>\n",
       "    <tr>\n",
       "      <th>4</th>\n",
       "      <td>/kaggle/input/tamil-handwritten-character-reco...</td>\n",
       "      <td>7/18174.bmp</td>\n",
       "    </tr>\n",
       "  </tbody>\n",
       "</table>\n",
       "</div>"
      ],
      "text/plain": [
       "                                            filename        label\n",
       "0  /kaggle/input/tamil-handwritten-character-reco...  7/42307.bmp\n",
       "1  /kaggle/input/tamil-handwritten-character-reco...  7/24258.bmp\n",
       "2  /kaggle/input/tamil-handwritten-character-reco...   7/6738.bmp\n",
       "3  /kaggle/input/tamil-handwritten-character-reco...  7/39167.bmp\n",
       "4  /kaggle/input/tamil-handwritten-character-reco...  7/18174.bmp"
      ]
     },
     "execution_count": 8,
     "metadata": {},
     "output_type": "execute_result"
    }
   ],
   "source": [
    "test['label']=test['filename']\n",
    "test['label']=test['label'].str.replace('/kaggle/input/tamil-handwritten-character-recognition/test/','')\n",
    "test.head()"
   ]
  },
  {
   "cell_type": "code",
   "execution_count": 9,
   "id": "5c52d3fa",
   "metadata": {
    "execution": {
     "iopub.execute_input": "2023-08-11T03:08:22.919876Z",
     "iopub.status.busy": "2023-08-11T03:08:22.918713Z",
     "iopub.status.idle": "2023-08-11T03:08:22.954283Z",
     "shell.execute_reply": "2023-08-11T03:08:22.953223Z"
    },
    "papermill": {
     "duration": 0.048182,
     "end_time": "2023-08-11T03:08:22.956651",
     "exception": false,
     "start_time": "2023-08-11T03:08:22.908469",
     "status": "completed"
    },
    "tags": []
   },
   "outputs": [
    {
     "data": {
      "text/html": [
       "<div>\n",
       "<style scoped>\n",
       "    .dataframe tbody tr th:only-of-type {\n",
       "        vertical-align: middle;\n",
       "    }\n",
       "\n",
       "    .dataframe tbody tr th {\n",
       "        vertical-align: top;\n",
       "    }\n",
       "\n",
       "    .dataframe thead th {\n",
       "        text-align: right;\n",
       "    }\n",
       "</style>\n",
       "<table border=\"1\" class=\"dataframe\">\n",
       "  <thead>\n",
       "    <tr style=\"text-align: right;\">\n",
       "      <th></th>\n",
       "      <th>filename</th>\n",
       "      <th>label</th>\n",
       "    </tr>\n",
       "  </thead>\n",
       "  <tbody>\n",
       "    <tr>\n",
       "      <th>0</th>\n",
       "      <td>/kaggle/input/tamil-handwritten-character-reco...</td>\n",
       "      <td>7</td>\n",
       "    </tr>\n",
       "    <tr>\n",
       "      <th>1</th>\n",
       "      <td>/kaggle/input/tamil-handwritten-character-reco...</td>\n",
       "      <td>7</td>\n",
       "    </tr>\n",
       "    <tr>\n",
       "      <th>2</th>\n",
       "      <td>/kaggle/input/tamil-handwritten-character-reco...</td>\n",
       "      <td>7</td>\n",
       "    </tr>\n",
       "    <tr>\n",
       "      <th>3</th>\n",
       "      <td>/kaggle/input/tamil-handwritten-character-reco...</td>\n",
       "      <td>7</td>\n",
       "    </tr>\n",
       "    <tr>\n",
       "      <th>4</th>\n",
       "      <td>/kaggle/input/tamil-handwritten-character-reco...</td>\n",
       "      <td>7</td>\n",
       "    </tr>\n",
       "  </tbody>\n",
       "</table>\n",
       "</div>"
      ],
      "text/plain": [
       "                                            filename label\n",
       "0  /kaggle/input/tamil-handwritten-character-reco...     7\n",
       "1  /kaggle/input/tamil-handwritten-character-reco...     7\n",
       "2  /kaggle/input/tamil-handwritten-character-reco...     7\n",
       "3  /kaggle/input/tamil-handwritten-character-reco...     7\n",
       "4  /kaggle/input/tamil-handwritten-character-reco...     7"
      ]
     },
     "execution_count": 9,
     "metadata": {},
     "output_type": "execute_result"
    }
   ],
   "source": [
    "test['label'] = test['label'].str.split('/').str[0]\n",
    "test.head()"
   ]
  },
  {
   "cell_type": "code",
   "execution_count": 10,
   "id": "49e27621",
   "metadata": {
    "execution": {
     "iopub.execute_input": "2023-08-11T03:08:22.977214Z",
     "iopub.status.busy": "2023-08-11T03:08:22.976771Z",
     "iopub.status.idle": "2023-08-11T03:19:03.865166Z",
     "shell.execute_reply": "2023-08-11T03:19:03.863597Z"
    },
    "papermill": {
     "duration": 640.901764,
     "end_time": "2023-08-11T03:19:03.867897",
     "exception": false,
     "start_time": "2023-08-11T03:08:22.966133",
     "status": "completed"
    },
    "tags": []
   },
   "outputs": [
    {
     "name": "stderr",
     "output_type": "stream",
     "text": [
      "/tmp/ipykernel_20/564266034.py:4: DeprecationWarning: ANTIALIAS is deprecated and will be removed in Pillow 10 (2023-07-01). Use LANCZOS or Resampling.LANCZOS instead.\n",
      "  img = img.resize((300, 300 * img.size[1] // img.size[0]), Image.ANTIALIAS)\n"
     ]
    },
    {
     "data": {
      "text/plain": [
       "['7', '4', '7', '7', '7']"
      ]
     },
     "execution_count": 10,
     "metadata": {},
     "output_type": "execute_result"
    }
   ],
   "source": [
    "result=[]\n",
    "for i in test.filename:\n",
    "    img = Image.open(i).convert('RGB')\n",
    "    img = img.resize((300, 300 * img.size[1] // img.size[0]), Image.ANTIALIAS)\n",
    "    inp_numpy = np.array(img)[None]\n",
    "    inp = tf.constant(inp_numpy, dtype='float32')\n",
    "    class_scores = model(inp)[0].numpy()\n",
    "    result.append(classes[class_scores.argmax()])\n",
    "result[:5]"
   ]
  },
  {
   "cell_type": "code",
   "execution_count": 11,
   "id": "a3f24a40",
   "metadata": {
    "execution": {
     "iopub.execute_input": "2023-08-11T03:19:03.889883Z",
     "iopub.status.busy": "2023-08-11T03:19:03.888624Z",
     "iopub.status.idle": "2023-08-11T03:19:03.907289Z",
     "shell.execute_reply": "2023-08-11T03:19:03.906062Z"
    },
    "papermill": {
     "duration": 0.032531,
     "end_time": "2023-08-11T03:19:03.910060",
     "exception": false,
     "start_time": "2023-08-11T03:19:03.877529",
     "status": "completed"
    },
    "tags": []
   },
   "outputs": [
    {
     "data": {
      "text/html": [
       "<div>\n",
       "<style scoped>\n",
       "    .dataframe tbody tr th:only-of-type {\n",
       "        vertical-align: middle;\n",
       "    }\n",
       "\n",
       "    .dataframe tbody tr th {\n",
       "        vertical-align: top;\n",
       "    }\n",
       "\n",
       "    .dataframe thead th {\n",
       "        text-align: right;\n",
       "    }\n",
       "</style>\n",
       "<table border=\"1\" class=\"dataframe\">\n",
       "  <thead>\n",
       "    <tr style=\"text-align: right;\">\n",
       "      <th></th>\n",
       "      <th>filename</th>\n",
       "      <th>label</th>\n",
       "      <th>prediction</th>\n",
       "    </tr>\n",
       "  </thead>\n",
       "  <tbody>\n",
       "    <tr>\n",
       "      <th>0</th>\n",
       "      <td>/kaggle/input/tamil-handwritten-character-reco...</td>\n",
       "      <td>7</td>\n",
       "      <td>7</td>\n",
       "    </tr>\n",
       "    <tr>\n",
       "      <th>1</th>\n",
       "      <td>/kaggle/input/tamil-handwritten-character-reco...</td>\n",
       "      <td>7</td>\n",
       "      <td>4</td>\n",
       "    </tr>\n",
       "    <tr>\n",
       "      <th>2</th>\n",
       "      <td>/kaggle/input/tamil-handwritten-character-reco...</td>\n",
       "      <td>7</td>\n",
       "      <td>7</td>\n",
       "    </tr>\n",
       "    <tr>\n",
       "      <th>3</th>\n",
       "      <td>/kaggle/input/tamil-handwritten-character-reco...</td>\n",
       "      <td>7</td>\n",
       "      <td>7</td>\n",
       "    </tr>\n",
       "    <tr>\n",
       "      <th>4</th>\n",
       "      <td>/kaggle/input/tamil-handwritten-character-reco...</td>\n",
       "      <td>7</td>\n",
       "      <td>7</td>\n",
       "    </tr>\n",
       "  </tbody>\n",
       "</table>\n",
       "</div>"
      ],
      "text/plain": [
       "                                            filename label prediction\n",
       "0  /kaggle/input/tamil-handwritten-character-reco...     7          7\n",
       "1  /kaggle/input/tamil-handwritten-character-reco...     7          4\n",
       "2  /kaggle/input/tamil-handwritten-character-reco...     7          7\n",
       "3  /kaggle/input/tamil-handwritten-character-reco...     7          7\n",
       "4  /kaggle/input/tamil-handwritten-character-reco...     7          7"
      ]
     },
     "execution_count": 11,
     "metadata": {},
     "output_type": "execute_result"
    }
   ],
   "source": [
    "test=test.assign(prediction=result)\n",
    "test.head()"
   ]
  },
  {
   "cell_type": "code",
   "execution_count": 12,
   "id": "15813da7",
   "metadata": {
    "execution": {
     "iopub.execute_input": "2023-08-11T03:19:03.931814Z",
     "iopub.status.busy": "2023-08-11T03:19:03.931362Z",
     "iopub.status.idle": "2023-08-11T04:00:44.338236Z",
     "shell.execute_reply": "2023-08-11T04:00:44.337161Z"
    },
    "papermill": {
     "duration": 2500.430224,
     "end_time": "2023-08-11T04:00:44.350082",
     "exception": false,
     "start_time": "2023-08-11T03:19:03.919858",
     "status": "completed"
    },
    "tags": []
   },
   "outputs": [
    {
     "name": "stderr",
     "output_type": "stream",
     "text": [
      "/tmp/ipykernel_20/1967585974.py:4: DeprecationWarning: ANTIALIAS is deprecated and will be removed in Pillow 10 (2023-07-01). Use LANCZOS or Resampling.LANCZOS instead.\n",
      "  img = img.resize((300, 300 * img.size[1] // img.size[0]), Image.ANTIALIAS)\n"
     ]
    },
    {
     "data": {
      "text/plain": [
       "['0', '0', '7', '7', '7']"
      ]
     },
     "execution_count": 12,
     "metadata": {},
     "output_type": "execute_result"
    }
   ],
   "source": [
    "result=[]\n",
    "for i in train.filename:\n",
    "    img = Image.open(i).convert('RGB')\n",
    "    img = img.resize((300, 300 * img.size[1] // img.size[0]), Image.ANTIALIAS)\n",
    "    inp_numpy = np.array(img)[None]\n",
    "    inp = tf.constant(inp_numpy, dtype='float32')\n",
    "    class_scores = model(inp)[0].numpy()\n",
    "    result.append(classes[class_scores.argmax()])\n",
    "result[:5]"
   ]
  },
  {
   "cell_type": "code",
   "execution_count": 13,
   "id": "ff92d2f7",
   "metadata": {
    "execution": {
     "iopub.execute_input": "2023-08-11T04:00:44.373076Z",
     "iopub.status.busy": "2023-08-11T04:00:44.371486Z",
     "iopub.status.idle": "2023-08-11T04:00:44.396775Z",
     "shell.execute_reply": "2023-08-11T04:00:44.395560Z"
    },
    "papermill": {
     "duration": 0.039687,
     "end_time": "2023-08-11T04:00:44.399671",
     "exception": false,
     "start_time": "2023-08-11T04:00:44.359984",
     "status": "completed"
    },
    "tags": []
   },
   "outputs": [
    {
     "data": {
      "text/html": [
       "<div>\n",
       "<style scoped>\n",
       "    .dataframe tbody tr th:only-of-type {\n",
       "        vertical-align: middle;\n",
       "    }\n",
       "\n",
       "    .dataframe tbody tr th {\n",
       "        vertical-align: top;\n",
       "    }\n",
       "\n",
       "    .dataframe thead th {\n",
       "        text-align: right;\n",
       "    }\n",
       "</style>\n",
       "<table border=\"1\" class=\"dataframe\">\n",
       "  <thead>\n",
       "    <tr style=\"text-align: right;\">\n",
       "      <th></th>\n",
       "      <th>filename</th>\n",
       "      <th>label</th>\n",
       "      <th>prediction</th>\n",
       "    </tr>\n",
       "  </thead>\n",
       "  <tbody>\n",
       "    <tr>\n",
       "      <th>0</th>\n",
       "      <td>/kaggle/input/tamil-handwritten-character-reco...</td>\n",
       "      <td>7</td>\n",
       "      <td>0</td>\n",
       "    </tr>\n",
       "    <tr>\n",
       "      <th>1</th>\n",
       "      <td>/kaggle/input/tamil-handwritten-character-reco...</td>\n",
       "      <td>7</td>\n",
       "      <td>0</td>\n",
       "    </tr>\n",
       "    <tr>\n",
       "      <th>2</th>\n",
       "      <td>/kaggle/input/tamil-handwritten-character-reco...</td>\n",
       "      <td>7</td>\n",
       "      <td>7</td>\n",
       "    </tr>\n",
       "    <tr>\n",
       "      <th>3</th>\n",
       "      <td>/kaggle/input/tamil-handwritten-character-reco...</td>\n",
       "      <td>7</td>\n",
       "      <td>7</td>\n",
       "    </tr>\n",
       "    <tr>\n",
       "      <th>4</th>\n",
       "      <td>/kaggle/input/tamil-handwritten-character-reco...</td>\n",
       "      <td>7</td>\n",
       "      <td>7</td>\n",
       "    </tr>\n",
       "  </tbody>\n",
       "</table>\n",
       "</div>"
      ],
      "text/plain": [
       "                                            filename label prediction\n",
       "0  /kaggle/input/tamil-handwritten-character-reco...     7          0\n",
       "1  /kaggle/input/tamil-handwritten-character-reco...     7          0\n",
       "2  /kaggle/input/tamil-handwritten-character-reco...     7          7\n",
       "3  /kaggle/input/tamil-handwritten-character-reco...     7          7\n",
       "4  /kaggle/input/tamil-handwritten-character-reco...     7          7"
      ]
     },
     "execution_count": 13,
     "metadata": {},
     "output_type": "execute_result"
    }
   ],
   "source": [
    "train=train.assign(prediction=result)\n",
    "train.head()"
   ]
  },
  {
   "cell_type": "code",
   "execution_count": 14,
   "id": "6792c991",
   "metadata": {
    "execution": {
     "iopub.execute_input": "2023-08-11T04:00:44.422758Z",
     "iopub.status.busy": "2023-08-11T04:00:44.422336Z",
     "iopub.status.idle": "2023-08-11T04:00:49.425590Z",
     "shell.execute_reply": "2023-08-11T04:00:49.424437Z"
    },
    "papermill": {
     "duration": 5.019173,
     "end_time": "2023-08-11T04:00:49.428976",
     "exception": false,
     "start_time": "2023-08-11T04:00:44.409803",
     "status": "completed"
    },
    "tags": []
   },
   "outputs": [
    {
     "name": "stdout",
     "output_type": "stream",
     "text": [
      "              precision    recall  f1-score   support\n",
      "\n",
      "           0       0.28      1.00      0.44       322\n",
      "           1       0.45      0.70      0.55       320\n",
      "          10       0.57      0.48      0.52       321\n",
      "         100       0.79      0.41      0.54       322\n",
      "         101       0.90      0.03      0.05       322\n",
      "         102       0.57      0.87      0.69       322\n",
      "         103       0.79      0.31      0.44       322\n",
      "         104       0.53      0.79      0.63       323\n",
      "         105       0.36      0.47      0.41       322\n",
      "         106       0.59      0.51      0.54       322\n",
      "         107       0.55      0.36      0.44       322\n",
      "         108       0.63      0.76      0.69       322\n",
      "         109       0.96      0.41      0.57       323\n",
      "          11       0.68      0.10      0.17       321\n",
      "         110       0.89      0.82      0.85       322\n",
      "         111       0.59      0.71      0.64       322\n",
      "         112       1.00      0.21      0.35       322\n",
      "         113       0.96      0.62      0.76       322\n",
      "         114       0.96      0.54      0.69       322\n",
      "         115       0.95      0.59      0.73       322\n",
      "         116       0.33      0.74      0.46       322\n",
      "         117       0.53      0.26      0.35       323\n",
      "         118       0.78      0.62      0.69       322\n",
      "         119       0.91      0.27      0.41       322\n",
      "          12       0.99      0.45      0.62       321\n",
      "         120       0.73      0.64      0.68       322\n",
      "         121       0.69      0.79      0.74       322\n",
      "         122       0.81      0.46      0.58       322\n",
      "         123       0.34      0.83      0.48       322\n",
      "         124       0.38      0.82      0.52       322\n",
      "         125       0.85      0.53      0.65       322\n",
      "         126       0.50      0.96      0.66       323\n",
      "         127       0.95      0.26      0.41       322\n",
      "         128       1.00      0.16      0.27       322\n",
      "         129       0.37      0.16      0.23       322\n",
      "          13       0.99      0.87      0.93       321\n",
      "         130       0.58      0.12      0.20       323\n",
      "         131       0.66      0.73      0.69       323\n",
      "         132       0.52      0.96      0.68       323\n",
      "         133       0.97      0.53      0.69       322\n",
      "         134       0.97      0.12      0.22       322\n",
      "         135       0.70      0.46      0.56       323\n",
      "         136       0.83      0.42      0.56       322\n",
      "         137       0.39      0.65      0.49       322\n",
      "         138       0.69      0.86      0.76       322\n",
      "         139       0.79      0.49      0.60       322\n",
      "          14       0.92      0.31      0.46       321\n",
      "         140       1.00      0.08      0.15       323\n",
      "         141       0.59      0.61      0.60       322\n",
      "         142       0.78      0.78      0.78       322\n",
      "         143       0.44      0.85      0.58       322\n",
      "         144       0.87      0.76      0.81       322\n",
      "         145       0.71      0.23      0.34       323\n",
      "         146       1.00      0.72      0.84       322\n",
      "         147       0.78      0.77      0.77       322\n",
      "         148       0.36      0.57      0.44       322\n",
      "         149       0.96      0.36      0.52       322\n",
      "          15       0.40      0.54      0.46       321\n",
      "         150       1.00      0.34      0.50       322\n",
      "         151       1.00      0.03      0.07       322\n",
      "         152       0.77      0.50      0.61       322\n",
      "         153       0.34      0.31      0.32       322\n",
      "         154       0.81      0.79      0.80       322\n",
      "         155       0.51      0.43      0.46       322\n",
      "          16       0.77      0.36      0.49       321\n",
      "          17       0.89      0.08      0.14       321\n",
      "          18       0.89      0.60      0.71       321\n",
      "          19       0.73      0.91      0.81       321\n",
      "           2       1.00      0.18      0.31       321\n",
      "          20       0.69      0.72      0.70       321\n",
      "          21       0.32      0.93      0.48       321\n",
      "          22       0.85      0.50      0.63       321\n",
      "          23       0.86      0.54      0.66       321\n",
      "          24       0.62      0.51      0.56       321\n",
      "          25       0.96      0.43      0.59       321\n",
      "          26       0.57      0.65      0.61       321\n",
      "          27       0.48      0.67      0.56       321\n",
      "          28       0.73      0.61      0.66       321\n",
      "          29       0.97      0.27      0.43       321\n",
      "           3       0.96      0.76      0.85       321\n",
      "          30       0.72      0.90      0.80       321\n",
      "          31       0.91      0.56      0.70       321\n",
      "          32       0.70      0.60      0.65       321\n",
      "          33       0.37      0.81      0.51       321\n",
      "          34       0.76      0.41      0.53       321\n",
      "          35       0.93      0.16      0.27       321\n",
      "          36       0.80      0.49      0.61       321\n",
      "          37       0.91      0.30      0.45       321\n",
      "          38       0.33      0.98      0.49       321\n",
      "          39       0.51      1.00      0.67       321\n",
      "           4       0.22      0.96      0.36       321\n",
      "          40       0.60      0.95      0.73       321\n",
      "          41       0.66      0.81      0.73       321\n",
      "          42       0.66      0.87      0.75       321\n",
      "          43       0.92      0.21      0.34       321\n",
      "          44       0.75      0.59      0.66       321\n",
      "          45       0.35      0.86      0.50       321\n",
      "          46       0.88      0.42      0.57       321\n",
      "          47       0.99      0.36      0.53       321\n",
      "          48       0.92      0.61      0.73       321\n",
      "          49       1.00      0.16      0.27       321\n",
      "           5       0.97      0.60      0.74       321\n",
      "          50       0.88      0.81      0.84       321\n",
      "          51       0.58      0.85      0.69       321\n",
      "          52       0.65      0.72      0.68       321\n",
      "          53       0.97      0.38      0.55       321\n",
      "          54       0.85      0.59      0.70       321\n",
      "          55       0.98      0.25      0.40       321\n",
      "          56       0.75      0.40      0.52       321\n",
      "          57       0.32      0.47      0.38       321\n",
      "          58       0.61      0.34      0.44       321\n",
      "          59       0.75      0.27      0.39       321\n",
      "           6       0.61      0.78      0.69       321\n",
      "          60       0.50      0.75      0.60       321\n",
      "          61       0.43      0.93      0.59       321\n",
      "          62       0.26      0.02      0.03       321\n",
      "          63       0.63      0.27      0.38       321\n",
      "          64       0.52      0.67      0.58       321\n",
      "          65       0.55      0.82      0.66       321\n",
      "          66       0.70      0.94      0.80       321\n",
      "          67       0.93      0.74      0.82       321\n",
      "          68       0.96      0.64      0.77       321\n",
      "          69       0.65      0.82      0.73       321\n",
      "           7       0.54      0.67      0.60       321\n",
      "          70       0.92      0.31      0.47       321\n",
      "          71       0.83      0.51      0.63       321\n",
      "          72       0.36      0.93      0.52       321\n",
      "          73       0.85      0.24      0.38       321\n",
      "          74       0.92      0.71      0.80       321\n",
      "          75       0.66      0.84      0.74       321\n",
      "          76       0.90      0.25      0.39       321\n",
      "          77       1.00      0.28      0.44       321\n",
      "          78       0.65      0.50      0.57       321\n",
      "          79       0.93      0.53      0.68       321\n",
      "           8       0.30      0.70      0.42       321\n",
      "          80       0.45      0.89      0.60       451\n",
      "          81       0.25      0.92      0.40       323\n",
      "          82       0.25      0.56      0.34       322\n",
      "          83       0.48      0.35      0.41       322\n",
      "          84       0.41      0.65      0.50       322\n",
      "          85       0.33      0.26      0.29       323\n",
      "          86       0.76      0.84      0.80       322\n",
      "          87       0.38      0.84      0.52       322\n",
      "          88       0.44      0.56      0.49       322\n",
      "          89       0.92      0.41      0.57       322\n",
      "           9       0.96      0.20      0.33       321\n",
      "          90       0.77      0.78      0.78       322\n",
      "          91       1.00      0.52      0.69       322\n",
      "          92       0.47      0.93      0.62       322\n",
      "          93       0.33      0.89      0.48       322\n",
      "          94       0.85      0.60      0.70       322\n",
      "          95       0.95      0.44      0.60       323\n",
      "          96       0.63      0.59      0.61       322\n",
      "          97       0.92      0.07      0.13       323\n",
      "          98       0.67      0.90      0.77       322\n",
      "          99       0.29      0.53      0.38       323\n",
      "\n",
      "    accuracy                           0.56     50296\n",
      "   macro avg       0.70      0.56      0.55     50296\n",
      "weighted avg       0.70      0.56      0.55     50296\n",
      "\n"
     ]
    }
   ],
   "source": [
    "from sklearn.metrics import classification_report\n",
    "print(classification_report(train['label'],train['prediction']))"
   ]
  },
  {
   "cell_type": "code",
   "execution_count": 15,
   "id": "5c1fcd8b",
   "metadata": {
    "execution": {
     "iopub.execute_input": "2023-08-11T04:00:49.453916Z",
     "iopub.status.busy": "2023-08-11T04:00:49.453434Z",
     "iopub.status.idle": "2023-08-11T04:00:50.355176Z",
     "shell.execute_reply": "2023-08-11T04:00:50.353783Z"
    },
    "papermill": {
     "duration": 0.918275,
     "end_time": "2023-08-11T04:00:50.358788",
     "exception": false,
     "start_time": "2023-08-11T04:00:49.440513",
     "status": "completed"
    },
    "tags": []
   },
   "outputs": [
    {
     "name": "stdout",
     "output_type": "stream",
     "text": [
      "              precision    recall  f1-score   support\n",
      "\n",
      "           0       0.27      1.00      0.43        81\n",
      "           1       0.43      0.66      0.52        80\n",
      "          10       0.48      0.34      0.40        80\n",
      "         100       0.72      0.36      0.48        81\n",
      "         101       1.00      0.01      0.02        81\n",
      "         102       0.54      0.84      0.66        81\n",
      "         103       0.81      0.31      0.45        81\n",
      "         104       0.45      0.70      0.55        80\n",
      "         105       0.28      0.37      0.32        81\n",
      "         106       0.49      0.48      0.49        81\n",
      "         107       0.42      0.23      0.30        81\n",
      "         108       0.63      0.79      0.70        81\n",
      "         109       0.95      0.45      0.61        80\n",
      "          11       0.83      0.12      0.22        80\n",
      "         110       0.89      0.80      0.84        81\n",
      "         111       0.58      0.74      0.65        81\n",
      "         112       0.92      0.14      0.24        81\n",
      "         113       0.96      0.57      0.71        81\n",
      "         114       0.85      0.48      0.61        81\n",
      "         115       0.90      0.64      0.75        81\n",
      "         116       0.32      0.72      0.44        81\n",
      "         117       0.59      0.24      0.34        80\n",
      "         118       0.78      0.67      0.72        81\n",
      "         119       1.00      0.28      0.44        81\n",
      "          12       0.97      0.44      0.60        80\n",
      "         120       0.71      0.67      0.69        81\n",
      "         121       0.71      0.75      0.73        81\n",
      "         122       0.89      0.48      0.62        81\n",
      "         123       0.37      0.78      0.50        81\n",
      "         124       0.38      0.83      0.52        81\n",
      "         125       0.74      0.46      0.56        81\n",
      "         126       0.46      0.97      0.62        80\n",
      "         127       0.90      0.22      0.36        81\n",
      "         128       0.73      0.10      0.17        81\n",
      "         129       0.42      0.21      0.28        81\n",
      "          13       0.99      0.91      0.95        80\n",
      "         130       0.60      0.15      0.24        80\n",
      "         131       0.81      0.64      0.71        80\n",
      "         132       0.49      0.95      0.65        80\n",
      "         133       0.93      0.48      0.63        81\n",
      "         134       1.00      0.16      0.28        81\n",
      "         135       0.72      0.55      0.62        80\n",
      "         136       0.93      0.48      0.63        81\n",
      "         137       0.40      0.60      0.48        81\n",
      "         138       0.69      0.81      0.75        81\n",
      "         139       0.84      0.57      0.68        81\n",
      "          14       1.00      0.35      0.52        80\n",
      "         140       0.80      0.10      0.18        80\n",
      "         141       0.61      0.63      0.62        81\n",
      "         142       0.74      0.74      0.74        81\n",
      "         143       0.42      0.88      0.57        81\n",
      "         144       0.92      0.70      0.80        81\n",
      "         145       0.76      0.28      0.40        80\n",
      "         146       1.00      0.77      0.87        81\n",
      "         147       0.73      0.81      0.77        81\n",
      "         148       0.32      0.49      0.39        81\n",
      "         149       0.96      0.32      0.48        81\n",
      "          15       0.38      0.45      0.41        80\n",
      "         150       1.00      0.32      0.49        81\n",
      "         151       1.00      0.06      0.12        81\n",
      "         152       0.71      0.42      0.53        81\n",
      "         153       0.42      0.36      0.39        81\n",
      "         154       0.81      0.75      0.78        81\n",
      "         155       0.54      0.47      0.50        81\n",
      "          16       0.74      0.31      0.44        80\n",
      "          17       1.00      0.07      0.14        80\n",
      "          18       0.87      0.65      0.74        80\n",
      "          19       0.82      0.85      0.83        80\n",
      "           2       1.00      0.20      0.33        80\n",
      "          20       0.64      0.64      0.64        80\n",
      "          21       0.28      0.93      0.43        80\n",
      "          22       0.83      0.44      0.57        80\n",
      "          23       0.94      0.57      0.71        80\n",
      "          24       0.61      0.42      0.50        80\n",
      "          25       1.00      0.53      0.69        80\n",
      "          26       0.60      0.59      0.59        80\n",
      "          27       0.44      0.60      0.51        80\n",
      "          28       0.71      0.55      0.62        80\n",
      "          29       0.96      0.29      0.44        80\n",
      "           3       0.94      0.72      0.82        80\n",
      "          30       0.69      0.86      0.77        80\n",
      "          31       0.90      0.54      0.67        80\n",
      "          32       0.73      0.61      0.67        80\n",
      "          33       0.33      0.82      0.47        80\n",
      "          34       0.84      0.34      0.48        80\n",
      "          35       0.95      0.23      0.36        80\n",
      "          36       0.80      0.51      0.63        80\n",
      "          37       0.93      0.33      0.48        80\n",
      "          38       0.35      0.96      0.51        80\n",
      "          39       0.52      1.00      0.68        80\n",
      "           4       0.19      0.96      0.32        80\n",
      "          40       0.58      0.89      0.70        80\n",
      "          41       0.68      0.79      0.73        80\n",
      "          42       0.69      0.94      0.79        80\n",
      "          43       0.92      0.28      0.42        80\n",
      "          44       0.65      0.45      0.53        80\n",
      "          45       0.40      0.90      0.55        80\n",
      "          46       0.88      0.44      0.58        80\n",
      "          47       0.94      0.42      0.59        80\n",
      "          48       0.91      0.60      0.72        80\n",
      "          49       1.00      0.16      0.28        80\n",
      "           5       0.95      0.69      0.80        80\n",
      "          50       0.83      0.78      0.80        80\n",
      "          51       0.61      0.82      0.70        80\n",
      "          52       0.61      0.75      0.67        80\n",
      "          53       1.00      0.35      0.52        80\n",
      "          54       0.81      0.59      0.68        80\n",
      "          55       1.00      0.14      0.24        80\n",
      "          56       0.71      0.30      0.42        80\n",
      "          57       0.26      0.45      0.33        80\n",
      "          58       0.71      0.38      0.49        80\n",
      "          59       0.83      0.24      0.37        80\n",
      "           6       0.57      0.76      0.65        80\n",
      "          60       0.45      0.69      0.54        80\n",
      "          61       0.43      0.93      0.58        80\n",
      "          62       0.29      0.03      0.05        80\n",
      "          63       0.68      0.29      0.40        80\n",
      "          64       0.49      0.61      0.55        80\n",
      "          65       0.55      0.79      0.65        80\n",
      "          66       0.66      0.91      0.77        80\n",
      "          67       0.94      0.75      0.83        80\n",
      "          68       0.93      0.65      0.76        80\n",
      "          69       0.66      0.79      0.72        80\n",
      "           7       0.53      0.61      0.57        80\n",
      "          70       0.85      0.29      0.43        80\n",
      "          71       0.83      0.47      0.60        80\n",
      "          72       0.38      0.93      0.54        80\n",
      "          73       0.71      0.12      0.21        80\n",
      "          74       0.93      0.66      0.77        80\n",
      "          75       0.70      0.81      0.75        80\n",
      "          76       0.75      0.19      0.30        80\n",
      "          77       1.00      0.33      0.49        80\n",
      "          78       0.60      0.45      0.51        80\n",
      "          79       1.00      0.53      0.69        80\n",
      "           8       0.31      0.71      0.43        80\n",
      "          80       0.44      0.85      0.58       113\n",
      "          81       0.23      0.81      0.35        80\n",
      "          82       0.28      0.64      0.39        81\n",
      "          83       0.49      0.56      0.52        81\n",
      "          84       0.39      0.72      0.51        81\n",
      "          85       0.31      0.25      0.28        80\n",
      "          86       0.79      0.84      0.81        81\n",
      "          87       0.36      0.80      0.49        81\n",
      "          88       0.45      0.52      0.48        81\n",
      "          89       0.88      0.37      0.52        81\n",
      "           9       1.00      0.20      0.33        80\n",
      "          90       0.79      0.73      0.76        81\n",
      "          91       0.96      0.56      0.70        81\n",
      "          92       0.45      0.95      0.61        81\n",
      "          93       0.31      0.80      0.44        81\n",
      "          94       0.90      0.58      0.71        81\n",
      "          95       0.94      0.41      0.57        80\n",
      "          96       0.55      0.48      0.51        81\n",
      "          97       0.75      0.07      0.14        80\n",
      "          98       0.69      0.93      0.79        81\n",
      "          99       0.25      0.46      0.32        80\n",
      "\n",
      "    accuracy                           0.55     12574\n",
      "   macro avg       0.69      0.55      0.54     12574\n",
      "weighted avg       0.69      0.55      0.54     12574\n",
      "\n"
     ]
    }
   ],
   "source": [
    "print(classification_report(test['label'],test['prediction']))"
   ]
  },
  {
   "cell_type": "code",
   "execution_count": 16,
   "id": "9073f13f",
   "metadata": {
    "execution": {
     "iopub.execute_input": "2023-08-11T04:00:50.382546Z",
     "iopub.status.busy": "2023-08-11T04:00:50.382062Z",
     "iopub.status.idle": "2023-08-11T04:00:50.425839Z",
     "shell.execute_reply": "2023-08-11T04:00:50.424836Z"
    },
    "papermill": {
     "duration": 0.058921,
     "end_time": "2023-08-11T04:00:50.428596",
     "exception": false,
     "start_time": "2023-08-11T04:00:50.369675",
     "status": "completed"
    },
    "tags": []
   },
   "outputs": [
    {
     "data": {
      "text/html": [
       "<div>\n",
       "<style scoped>\n",
       "    .dataframe tbody tr th:only-of-type {\n",
       "        vertical-align: middle;\n",
       "    }\n",
       "\n",
       "    .dataframe tbody tr th {\n",
       "        vertical-align: top;\n",
       "    }\n",
       "\n",
       "    .dataframe thead th {\n",
       "        text-align: right;\n",
       "    }\n",
       "</style>\n",
       "<table border=\"1\" class=\"dataframe\">\n",
       "  <thead>\n",
       "    <tr style=\"text-align: right;\">\n",
       "      <th></th>\n",
       "      <th>ID</th>\n",
       "      <th>Class Label</th>\n",
       "    </tr>\n",
       "  </thead>\n",
       "  <tbody>\n",
       "    <tr>\n",
       "      <th>0</th>\n",
       "      <td>1.bmp</td>\n",
       "      <td>0</td>\n",
       "    </tr>\n",
       "    <tr>\n",
       "      <th>1</th>\n",
       "      <td>2.bmp</td>\n",
       "      <td>81</td>\n",
       "    </tr>\n",
       "    <tr>\n",
       "      <th>2</th>\n",
       "      <td>3.bmp</td>\n",
       "      <td>82</td>\n",
       "    </tr>\n",
       "    <tr>\n",
       "      <th>3</th>\n",
       "      <td>4.bmp</td>\n",
       "      <td>83</td>\n",
       "    </tr>\n",
       "    <tr>\n",
       "      <th>4</th>\n",
       "      <td>5.bmp</td>\n",
       "      <td>84</td>\n",
       "    </tr>\n",
       "  </tbody>\n",
       "</table>\n",
       "</div>"
      ],
      "text/plain": [
       "      ID  Class Label\n",
       "0  1.bmp            0\n",
       "1  2.bmp           81\n",
       "2  3.bmp           82\n",
       "3  4.bmp           83\n",
       "4  5.bmp           84"
      ]
     },
     "execution_count": 16,
     "metadata": {},
     "output_type": "execute_result"
    }
   ],
   "source": [
    "sol=pd.read_csv('/kaggle/input/tamil-handwritten-character-recognition/test.csv')\n",
    "sol.head()"
   ]
  },
  {
   "cell_type": "code",
   "execution_count": 17,
   "id": "6dc9c5b3",
   "metadata": {
    "execution": {
     "iopub.execute_input": "2023-08-11T04:00:50.452806Z",
     "iopub.status.busy": "2023-08-11T04:00:50.452381Z",
     "iopub.status.idle": "2023-08-11T04:00:50.471296Z",
     "shell.execute_reply": "2023-08-11T04:00:50.470250Z"
    },
    "papermill": {
     "duration": 0.033986,
     "end_time": "2023-08-11T04:00:50.473683",
     "exception": false,
     "start_time": "2023-08-11T04:00:50.439697",
     "status": "completed"
    },
    "tags": []
   },
   "outputs": [
    {
     "data": {
      "text/html": [
       "<div>\n",
       "<style scoped>\n",
       "    .dataframe tbody tr th:only-of-type {\n",
       "        vertical-align: middle;\n",
       "    }\n",
       "\n",
       "    .dataframe tbody tr th {\n",
       "        vertical-align: top;\n",
       "    }\n",
       "\n",
       "    .dataframe thead th {\n",
       "        text-align: right;\n",
       "    }\n",
       "</style>\n",
       "<table border=\"1\" class=\"dataframe\">\n",
       "  <thead>\n",
       "    <tr style=\"text-align: right;\">\n",
       "      <th></th>\n",
       "      <th>ID</th>\n",
       "      <th>Class Label</th>\n",
       "      <th>filename</th>\n",
       "    </tr>\n",
       "  </thead>\n",
       "  <tbody>\n",
       "    <tr>\n",
       "      <th>0</th>\n",
       "      <td>1.bmp</td>\n",
       "      <td>0</td>\n",
       "      <td>/kaggle/input/tamil-handwritten-character-reco...</td>\n",
       "    </tr>\n",
       "    <tr>\n",
       "      <th>1</th>\n",
       "      <td>2.bmp</td>\n",
       "      <td>81</td>\n",
       "      <td>/kaggle/input/tamil-handwritten-character-reco...</td>\n",
       "    </tr>\n",
       "    <tr>\n",
       "      <th>2</th>\n",
       "      <td>3.bmp</td>\n",
       "      <td>82</td>\n",
       "      <td>/kaggle/input/tamil-handwritten-character-reco...</td>\n",
       "    </tr>\n",
       "    <tr>\n",
       "      <th>3</th>\n",
       "      <td>4.bmp</td>\n",
       "      <td>83</td>\n",
       "      <td>/kaggle/input/tamil-handwritten-character-reco...</td>\n",
       "    </tr>\n",
       "    <tr>\n",
       "      <th>4</th>\n",
       "      <td>5.bmp</td>\n",
       "      <td>84</td>\n",
       "      <td>/kaggle/input/tamil-handwritten-character-reco...</td>\n",
       "    </tr>\n",
       "  </tbody>\n",
       "</table>\n",
       "</div>"
      ],
      "text/plain": [
       "      ID  Class Label                                           filename\n",
       "0  1.bmp            0  /kaggle/input/tamil-handwritten-character-reco...\n",
       "1  2.bmp           81  /kaggle/input/tamil-handwritten-character-reco...\n",
       "2  3.bmp           82  /kaggle/input/tamil-handwritten-character-reco...\n",
       "3  4.bmp           83  /kaggle/input/tamil-handwritten-character-reco...\n",
       "4  5.bmp           84  /kaggle/input/tamil-handwritten-character-reco..."
      ]
     },
     "execution_count": 17,
     "metadata": {},
     "output_type": "execute_result"
    }
   ],
   "source": [
    "sol['filename']='/kaggle/input/tamil-handwritten-character-recognition/sol/'+sol['ID']\n",
    "sol.head()"
   ]
  },
  {
   "cell_type": "code",
   "execution_count": 18,
   "id": "e8ed5821",
   "metadata": {
    "execution": {
     "iopub.execute_input": "2023-08-11T04:00:50.498827Z",
     "iopub.status.busy": "2023-08-11T04:00:50.497649Z",
     "iopub.status.idle": "2023-08-11T04:24:46.120693Z",
     "shell.execute_reply": "2023-08-11T04:24:46.119488Z"
    },
    "papermill": {
     "duration": 1435.649778,
     "end_time": "2023-08-11T04:24:46.134781",
     "exception": false,
     "start_time": "2023-08-11T04:00:50.485003",
     "status": "completed"
    },
    "tags": []
   },
   "outputs": [
    {
     "name": "stderr",
     "output_type": "stream",
     "text": [
      "/tmp/ipykernel_20/3826586461.py:4: DeprecationWarning: ANTIALIAS is deprecated and will be removed in Pillow 10 (2023-07-01). Use LANCZOS or Resampling.LANCZOS instead.\n",
      "  img = img.resize((300, 300 * img.size[1] // img.size[0]), Image.ANTIALIAS)\n"
     ]
    },
    {
     "data": {
      "text/plain": [
       "['0', '81', '82', '83', '84']"
      ]
     },
     "execution_count": 18,
     "metadata": {},
     "output_type": "execute_result"
    }
   ],
   "source": [
    "result=[]\n",
    "for i in sol.filename:\n",
    "    img = Image.open(i).convert('RGB')\n",
    "    img = img.resize((300, 300 * img.size[1] // img.size[0]), Image.ANTIALIAS)\n",
    "    inp_numpy = np.array(img)[None]\n",
    "    inp = tf.constant(inp_numpy, dtype='float32')\n",
    "    class_scores = model(inp)[0].numpy()\n",
    "    result.append(classes[class_scores.argmax()])\n",
    "result[:5]"
   ]
  },
  {
   "cell_type": "code",
   "execution_count": 19,
   "id": "65f1bcc6",
   "metadata": {
    "execution": {
     "iopub.execute_input": "2023-08-11T04:24:46.159691Z",
     "iopub.status.busy": "2023-08-11T04:24:46.159297Z",
     "iopub.status.idle": "2023-08-11T04:24:46.177181Z",
     "shell.execute_reply": "2023-08-11T04:24:46.176008Z"
    },
    "papermill": {
     "duration": 0.033727,
     "end_time": "2023-08-11T04:24:46.179704",
     "exception": false,
     "start_time": "2023-08-11T04:24:46.145977",
     "status": "completed"
    },
    "tags": []
   },
   "outputs": [
    {
     "data": {
      "text/html": [
       "<div>\n",
       "<style scoped>\n",
       "    .dataframe tbody tr th:only-of-type {\n",
       "        vertical-align: middle;\n",
       "    }\n",
       "\n",
       "    .dataframe tbody tr th {\n",
       "        vertical-align: top;\n",
       "    }\n",
       "\n",
       "    .dataframe thead th {\n",
       "        text-align: right;\n",
       "    }\n",
       "</style>\n",
       "<table border=\"1\" class=\"dataframe\">\n",
       "  <thead>\n",
       "    <tr style=\"text-align: right;\">\n",
       "      <th></th>\n",
       "      <th>ID</th>\n",
       "      <th>Class Label</th>\n",
       "      <th>filename</th>\n",
       "      <th>prediction</th>\n",
       "    </tr>\n",
       "  </thead>\n",
       "  <tbody>\n",
       "    <tr>\n",
       "      <th>0</th>\n",
       "      <td>1.bmp</td>\n",
       "      <td>0</td>\n",
       "      <td>/kaggle/input/tamil-handwritten-character-reco...</td>\n",
       "      <td>0</td>\n",
       "    </tr>\n",
       "    <tr>\n",
       "      <th>1</th>\n",
       "      <td>2.bmp</td>\n",
       "      <td>81</td>\n",
       "      <td>/kaggle/input/tamil-handwritten-character-reco...</td>\n",
       "      <td>81</td>\n",
       "    </tr>\n",
       "    <tr>\n",
       "      <th>2</th>\n",
       "      <td>3.bmp</td>\n",
       "      <td>82</td>\n",
       "      <td>/kaggle/input/tamil-handwritten-character-reco...</td>\n",
       "      <td>82</td>\n",
       "    </tr>\n",
       "    <tr>\n",
       "      <th>3</th>\n",
       "      <td>4.bmp</td>\n",
       "      <td>83</td>\n",
       "      <td>/kaggle/input/tamil-handwritten-character-reco...</td>\n",
       "      <td>83</td>\n",
       "    </tr>\n",
       "    <tr>\n",
       "      <th>4</th>\n",
       "      <td>5.bmp</td>\n",
       "      <td>84</td>\n",
       "      <td>/kaggle/input/tamil-handwritten-character-reco...</td>\n",
       "      <td>84</td>\n",
       "    </tr>\n",
       "  </tbody>\n",
       "</table>\n",
       "</div>"
      ],
      "text/plain": [
       "      ID  Class Label                                           filename  \\\n",
       "0  1.bmp            0  /kaggle/input/tamil-handwritten-character-reco...   \n",
       "1  2.bmp           81  /kaggle/input/tamil-handwritten-character-reco...   \n",
       "2  3.bmp           82  /kaggle/input/tamil-handwritten-character-reco...   \n",
       "3  4.bmp           83  /kaggle/input/tamil-handwritten-character-reco...   \n",
       "4  5.bmp           84  /kaggle/input/tamil-handwritten-character-reco...   \n",
       "\n",
       "  prediction  \n",
       "0          0  \n",
       "1         81  \n",
       "2         82  \n",
       "3         83  \n",
       "4         84  "
      ]
     },
     "execution_count": 19,
     "metadata": {},
     "output_type": "execute_result"
    }
   ],
   "source": [
    "sol=sol.assign(prediction=result)\n",
    "sol.head()"
   ]
  },
  {
   "cell_type": "code",
   "execution_count": 20,
   "id": "560a73ee",
   "metadata": {
    "execution": {
     "iopub.execute_input": "2023-08-11T04:24:46.205317Z",
     "iopub.status.busy": "2023-08-11T04:24:46.204870Z",
     "iopub.status.idle": "2023-08-11T04:24:46.224661Z",
     "shell.execute_reply": "2023-08-11T04:24:46.223489Z"
    },
    "papermill": {
     "duration": 0.035518,
     "end_time": "2023-08-11T04:24:46.227106",
     "exception": false,
     "start_time": "2023-08-11T04:24:46.191588",
     "status": "completed"
    },
    "tags": []
   },
   "outputs": [
    {
     "data": {
      "text/html": [
       "<div>\n",
       "<style scoped>\n",
       "    .dataframe tbody tr th:only-of-type {\n",
       "        vertical-align: middle;\n",
       "    }\n",
       "\n",
       "    .dataframe tbody tr th {\n",
       "        vertical-align: top;\n",
       "    }\n",
       "\n",
       "    .dataframe thead th {\n",
       "        text-align: right;\n",
       "    }\n",
       "</style>\n",
       "<table border=\"1\" class=\"dataframe\">\n",
       "  <thead>\n",
       "    <tr style=\"text-align: right;\">\n",
       "      <th></th>\n",
       "      <th>ID</th>\n",
       "      <th>Class Label</th>\n",
       "    </tr>\n",
       "  </thead>\n",
       "  <tbody>\n",
       "    <tr>\n",
       "      <th>0</th>\n",
       "      <td>1.bmp</td>\n",
       "      <td>0</td>\n",
       "    </tr>\n",
       "    <tr>\n",
       "      <th>1</th>\n",
       "      <td>2.bmp</td>\n",
       "      <td>81</td>\n",
       "    </tr>\n",
       "    <tr>\n",
       "      <th>2</th>\n",
       "      <td>3.bmp</td>\n",
       "      <td>82</td>\n",
       "    </tr>\n",
       "    <tr>\n",
       "      <th>3</th>\n",
       "      <td>4.bmp</td>\n",
       "      <td>83</td>\n",
       "    </tr>\n",
       "    <tr>\n",
       "      <th>4</th>\n",
       "      <td>5.bmp</td>\n",
       "      <td>84</td>\n",
       "    </tr>\n",
       "  </tbody>\n",
       "</table>\n",
       "</div>"
      ],
      "text/plain": [
       "      ID Class Label\n",
       "0  1.bmp           0\n",
       "1  2.bmp          81\n",
       "2  3.bmp          82\n",
       "3  4.bmp          83\n",
       "4  5.bmp          84"
      ]
     },
     "execution_count": 20,
     "metadata": {},
     "output_type": "execute_result"
    }
   ],
   "source": [
    "sol=sol[['ID','prediction']]\n",
    "sol.columns=['ID','Class Label']\n",
    "sol.head()"
   ]
  },
  {
   "cell_type": "code",
   "execution_count": 21,
   "id": "e8bb3bd9",
   "metadata": {
    "execution": {
     "iopub.execute_input": "2023-08-11T04:24:46.253627Z",
     "iopub.status.busy": "2023-08-11T04:24:46.252761Z",
     "iopub.status.idle": "2023-08-11T04:24:46.339363Z",
     "shell.execute_reply": "2023-08-11T04:24:46.338386Z"
    },
    "papermill": {
     "duration": 0.102662,
     "end_time": "2023-08-11T04:24:46.341991",
     "exception": false,
     "start_time": "2023-08-11T04:24:46.239329",
     "status": "completed"
    },
    "tags": []
   },
   "outputs": [],
   "source": [
    "sol.to_csv('./sol.csv',index=False)"
   ]
  }
 ],
 "metadata": {
  "kernelspec": {
   "display_name": "Python 3",
   "language": "python",
   "name": "python3"
  },
  "language_info": {
   "codemirror_mode": {
    "name": "ipython",
    "version": 3
   },
   "file_extension": ".py",
   "mimetype": "text/x-python",
   "name": "python",
   "nbconvert_exporter": "python",
   "pygments_lexer": "ipython3",
   "version": "3.10.12"
  },
  "papermill": {
   "default_parameters": {},
   "duration": 4626.351217,
   "end_time": "2023-08-11T04:24:49.950513",
   "environment_variables": {},
   "exception": null,
   "input_path": "__notebook__.ipynb",
   "output_path": "__notebook__.ipynb",
   "parameters": {},
   "start_time": "2023-08-11T03:07:43.599296",
   "version": "2.4.0"
  }
 },
 "nbformat": 4,
 "nbformat_minor": 5
}
